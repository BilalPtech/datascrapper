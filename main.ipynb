{
 "cells": [
  {
   "cell_type": "code",
   "execution_count": 1,
   "metadata": {},
   "outputs": [],
   "source": [
    "import requests\n",
    "from selenium import webdriver\n",
    "from selenium.webdriver.common.by import By\n",
    "from selenium.webdriver.support.ui import WebDriverWait\n",
    "from selenium.webdriver.support import expected_conditions as EC\n",
    "from selenium.common.exceptions import TimeoutException, NoSuchElementException\n",
    "from webdriver_manager.chrome import ChromeDriverManager\n",
    "from selenium.webdriver.chrome.service import Service\n",
    "from bs4 import BeautifulSoup\n",
    "import time\n",
    "import json"
   ]
  },
  {
   "cell_type": "code",
   "execution_count": 2,
   "metadata": {},
   "outputs": [],
   "source": [
    "def get_soup(url):\n",
    "    response = requests.get(url)\n",
    "\n",
    "    if response.status_code == 200:\n",
    "        soup = BeautifulSoup(response.text, 'lxml')\n",
    "        return soup\n",
    "    else:\n",
    "        raise Exception(f\"Failed to retrieve content. Status code: {response.status_code}\")"
   ]
  },
  {
   "cell_type": "code",
   "execution_count": 3,
   "metadata": {},
   "outputs": [],
   "source": [
    "def get_article_hrefs(url):\n",
    "    driver = webdriver.Chrome(service=Service(ChromeDriverManager().install()))\n",
    "\n",
    "    driver.get(url)\n",
    "    time.sleep(5)\n",
    "\n",
    "    all_hrefs = set()\n",
    "\n",
    "    while True:\n",
    "        soup = BeautifulSoup(driver.page_source, 'lxml')\n",
    "        \n",
    "        content_area = soup.find('div', class_='content-area')\n",
    "        if not content_area:\n",
    "            break\n",
    "        \n",
    "        articles = content_area.find_all('article')\n",
    "        for article in articles:\n",
    "            article_header = article.find('header',{'class':'entry-header'})\n",
    "            article_h2 = article_header.find('h2',{'class':'entry-title'})\n",
    "            a = article_h2.find('a')\n",
    "            href = a.get('href')\n",
    "            if href:\n",
    "                all_hrefs.add(href)\n",
    "\n",
    "        try:\n",
    "            driver.execute_script(\"window.scrollTo(0, document.body.scrollHeight/1.2);\")\n",
    "            time.sleep(2)\n",
    "            older_posts_button = WebDriverWait(driver, 10).until(\n",
    "                EC.element_to_be_clickable((By.XPATH, '//div[@id=\"infinite-handle\"]//a[text()=\"Older posts\"]'))\n",
    "            )\n",
    "            older_posts_button.click()\n",
    "            print('OlderPost Btn Clicked')\n",
    "            time.sleep(5)\n",
    "\n",
    "        except TimeoutException:\n",
    "            print('TimeoutException')\n",
    "            break\n",
    "\n",
    "    driver.quit()\n",
    "\n",
    "    return list(all_hrefs)"
   ]
  },
  {
   "cell_type": "code",
   "execution_count": 6,
   "metadata": {},
   "outputs": [],
   "source": [
    "url = \"https://eastcroydoncool.co.uk/\"\n",
    "#yearly_links = get_article_hrefs(url)\n",
    "soup = get_soup(url)"
   ]
  },
  {
   "cell_type": "code",
   "execution_count": 53,
   "metadata": {},
   "outputs": [
    {
     "name": "stdout",
     "output_type": "stream",
     "text": [
      "10\n",
      "['https://eastcroydoncool.co.uk/2018/06/10/croydoniscool-tweet-chat/', 'https://eastcroydoncool.co.uk/2018/09/11/east-croydon-cool-talks-virtual-reality/', 'https://eastcroydoncool.co.uk/2018/10/23/east-croydon-cool-talks-croydon-literary-festival/', 'https://eastcroydoncool.co.uk/2018/08/24/east-croydon-cool-talks-risefestival/', 'https://eastcroydoncool.co.uk/2018/07/16/east-croydon-cool-talks-performance-art-and-noise/', 'https://eastcroydoncool.co.uk/2018/07/04/east-croydon-cool-talkship-hop/', 'https://eastcroydoncool.co.uk/2018/06/25/east-croydon-cool-talks-homelessness/', 'https://eastcroydoncool.co.uk/2018/08/06/east-croydon-cool-talks-jewellery-design/', 'https://eastcroydoncool.co.uk/2018/10/10/east-croydon-cool-talks-counselling/', 'https://eastcroydoncool.co.uk/2018/10/06/east-croydon-cool-talks-illustration/']\n"
     ]
    }
   ],
   "source": [
    "print(len(yearly_links))\n",
    "print(yearly_links)"
   ]
  },
  {
   "cell_type": "code",
   "execution_count": 7,
   "metadata": {},
   "outputs": [],
   "source": [
    "data = {}\n",
    "brand_div = soup.find('div',{'class':'site-branding-text'})\n",
    "brand_p = brand_div.find('p',{'class':'site-title'})\n",
    "data[\"site_url\"] = brand_p.find('a')['href']\n",
    "data[\"site_title\"] = brand_p.find('a').text\n",
    "data['site_description'] = brand_div.find('p',{'class':'site-description'}).text\n",
    "data[\"blogs\"] = []"
   ]
  },
  {
   "cell_type": "code",
   "execution_count": 36,
   "metadata": {},
   "outputs": [
    {
     "name": "stdout",
     "output_type": "stream",
     "text": [
      "Welcome\n",
      "Croydon and Cool? Say wuuut?! It’s fair to say Croydon isn’t generally considered the epitome of cool. But like all underdogs – there’s way more to it than it’s given credit for.  This big (Brutalist) slab of concrete (surrounded by acres of countryside) has seen a lot of changes in recent years. In East Croydon, there are more entertainment options thanks to the arrival of Boxpark and the refurbishment of Fairfield Halls. There are increased education opportunities courtesy of a new London South Bank University campus and a partnership between Croydon College and the University of Roehampton. There are more enterprise possibilities due to a start-up culture fostered by the likes of Sussex Innovation Centre and Start Up Croydon. The restaurant and bar scene (celebrated at the annual Croydon Food Festival) is attracting foodies from across London and the long-awaited “Westfield” project is now underway again. All this in addition to what already made Croydon a great place to be: a thriving creative arts scene (showcased by it’s London Borough of Culture 2023 programme), a vibrant community (based across a network of unique neighbourhoods – from Coulsdon, Purley and Sanderstead in the south to Norbury, Crystal Palace and Upper Norwood in the north) and excellent transport connections (including trains that get you to Central London in 14 mins, Gatwick Airport in 15 mins and Brighton in 45 mins). As a Borough, Croydon has always bred talent – nurturing top international stars on football fields at CPFC and in studios at The Brit School. Well known for being the birthplace of Dubstep, Croydon’s wider music credentials are unrivalled. The Borough boasts a roll-call of iconic artists spanning all genres – from Samuel Coleridge Taylor, Captain Sensible and Desmond Dekker to Skream & Benga, Stormzy and Raye. A new wave of Creatives (supported and celebrated through the Borough’s Creative Enterprise Zone) have made Croydon home – drawn to studios and workspaces like Matthews Yard, Turf, Conditions, Stanley Arts, ASC and Pirate. Croydon now has a record number of new developments and a growing population of workers, students and residents – who are attracted to all the other great things about the area. After a global pandemic, supporting local and investing in community has never been more important. CLICK HERE to learn how East Croydon Cool helps to celebrate and champion people and places across the Borough.\n"
     ]
    }
   ],
   "source": [
    "blog = {}\n",
    "blog['title'] = soup.find('h1').text.strip()\n",
    "content_div = soup.find('div',{'class':'entry-content'})\n",
    "text_ps = content_div.find_all('p')\n",
    "txt = []\n",
    "for text_p in text_ps:\n",
    "    txt.append(text_p.text)\n",
    "blog['content'] = ' '.join(txt)\n",
    "print(blog['title'])\n",
    "print(blog['content'])"
   ]
  },
  {
   "cell_type": "code",
   "execution_count": null,
   "metadata": {},
   "outputs": [],
   "source": [
    "data['blogs'].append(blog)"
   ]
  },
  {
   "cell_type": "code",
   "execution_count": 33,
   "metadata": {},
   "outputs": [],
   "source": [
    "with open('data/first.json','w') as f:\n",
    "    json.dump(data, f, indent=4)"
   ]
  }
 ],
 "metadata": {
  "kernelspec": {
   "display_name": "venv",
   "language": "python",
   "name": "python3"
  },
  "language_info": {
   "codemirror_mode": {
    "name": "ipython",
    "version": 3
   },
   "file_extension": ".py",
   "mimetype": "text/x-python",
   "name": "python",
   "nbconvert_exporter": "python",
   "pygments_lexer": "ipython3",
   "version": "3.11.6"
  }
 },
 "nbformat": 4,
 "nbformat_minor": 2
}
